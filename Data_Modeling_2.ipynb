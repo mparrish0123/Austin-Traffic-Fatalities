{
 "cells": [
  {
   "cell_type": "code",
   "execution_count": 1,
   "metadata": {},
   "outputs": [],
   "source": [
    "import pandas as pd\n",
    "import numpy as np\n",
    "import matplotlib.pyplot as plt\n",
    "from math import sqrt\n",
    "from sklearn.preprocessing import StandardScaler\n",
    "from sklearn.model_selection import train_test_split, cross_val_score\n",
    "from sklearn.linear_model import LogisticRegression\n",
    "from sklearn.metrics import mean_squared_error, confusion_matrix\n",
    "from sklearn.utils.multiclass import unique_labels\n",
    "from sklearn.tree import DecisionTreeClassifier\n",
    "from sklearn.ensemble import BaggingClassifier \n",
    "from sklearn.metrics import accuracy_score, f1_score, recall_score, confusion_matrix\n",
    "from sklearn.model_selection import GridSearchCV\n",
    "from sklearn.neighbors import KNeighborsClassifier\n",
    "from sklearn.svm import SVC\n",
    "from sklearn.pipeline import Pipeline\n",
    "from sklearn.ensemble import RandomForestClassifier, ExtraTreesClassifier, GradientBoostingClassifier, AdaBoostClassifier, VotingClassifier"
   ]
  },
  {
   "cell_type": "code",
   "execution_count": 2,
   "metadata": {},
   "outputs": [
    {
     "data": {
      "text/plain": [
       "(220171, 28)"
      ]
     },
     "execution_count": 2,
     "metadata": {},
     "output_type": "execute_result"
    }
   ],
   "source": [
    "import pickle\n",
    "cx_df = pickle.load( open( \"cx_df_2.p\", \"rb\" ) )\n",
    "cx_df.shape"
   ]
  },
  {
   "cell_type": "code",
   "execution_count": 3,
   "metadata": {},
   "outputs": [],
   "source": [
    "# set index to crash_id\n",
    "cx_df = cx_df.set_index('crash_id')"
   ]
  },
  {
   "cell_type": "code",
   "execution_count": 4,
   "metadata": {},
   "outputs": [
    {
     "data": {
      "text/plain": [
       "crash_fatal_fl                       int64\n",
       "day_of_week                          int64\n",
       "datetime                    datetime64[ns]\n",
       "wthr_cond_id                      category\n",
       "light_cond_id                     category\n",
       "crash_speed_limit                    int64\n",
       "active_school_zone_fl                int64\n",
       "rr_relat_fl                          int64\n",
       "crash_date                  datetime64[ns]\n",
       "crash_time                          object\n",
       "cnty_id                           category\n",
       "city_id                           category\n",
       "surf_cond_id                      category\n",
       "rpt_rdwy_sys_id                   category\n",
       "intrsct_relat_id                  category\n",
       "road_constr_zone_wrkr_fl             int64\n",
       "road_constr_zone_fl                  int64\n",
       "road_part_adj_id                  category\n",
       "road_cls_id                       category\n",
       "phys_featr_1_id                   category\n",
       "phys_featr_2_id                   category\n",
       "onsys_fl                             int64\n",
       "rural_fl                             int64\n",
       "holiday                              int64\n",
       "comut_hrs                            int64\n",
       "weekend                              int64\n",
       "late_night                           int64\n",
       "dtype: object"
      ]
     },
     "execution_count": 4,
     "metadata": {},
     "output_type": "execute_result"
    }
   ],
   "source": [
    "cx_df.dtypes"
   ]
  },
  {
   "cell_type": "code",
   "execution_count": 5,
   "metadata": {},
   "outputs": [],
   "source": [
    "# create features\n",
    "features = cx_df.drop(['crash_fatal_fl','crash_date', 'crash_time','datetime'], axis = 1)"
   ]
  },
  {
   "cell_type": "code",
   "execution_count": 6,
   "metadata": {},
   "outputs": [],
   "source": [
    "features = pd.get_dummies(features, drop_first=False)"
   ]
  },
  {
   "cell_type": "code",
   "execution_count": 7,
   "metadata": {},
   "outputs": [],
   "source": [
    "# set X and y\n",
    "X = features\n",
    "y = cx_df['crash_fatal_fl']"
   ]
  },
  {
   "cell_type": "code",
   "execution_count": 8,
   "metadata": {},
   "outputs": [
    {
     "data": {
      "text/html": [
       "<div>\n",
       "<style scoped>\n",
       "    .dataframe tbody tr th:only-of-type {\n",
       "        vertical-align: middle;\n",
       "    }\n",
       "\n",
       "    .dataframe tbody tr th {\n",
       "        vertical-align: top;\n",
       "    }\n",
       "\n",
       "    .dataframe thead th {\n",
       "        text-align: right;\n",
       "    }\n",
       "</style>\n",
       "<table border=\"1\" class=\"dataframe\">\n",
       "  <thead>\n",
       "    <tr style=\"text-align: right;\">\n",
       "      <th></th>\n",
       "      <th>day_of_week</th>\n",
       "      <th>crash_speed_limit</th>\n",
       "      <th>active_school_zone_fl</th>\n",
       "      <th>rr_relat_fl</th>\n",
       "      <th>road_constr_zone_wrkr_fl</th>\n",
       "      <th>road_constr_zone_fl</th>\n",
       "      <th>onsys_fl</th>\n",
       "      <th>rural_fl</th>\n",
       "      <th>holiday</th>\n",
       "      <th>comut_hrs</th>\n",
       "      <th>...</th>\n",
       "      <th>phys_featr_2_id_12.0</th>\n",
       "      <th>phys_featr_2_id_14.0</th>\n",
       "      <th>phys_featr_2_id_15.0</th>\n",
       "      <th>phys_featr_2_id_17.0</th>\n",
       "      <th>phys_featr_2_id_20.0</th>\n",
       "      <th>phys_featr_2_id_21.0</th>\n",
       "      <th>phys_featr_2_id_32.0</th>\n",
       "      <th>phys_featr_2_id_33.0</th>\n",
       "      <th>phys_featr_2_id_98.0</th>\n",
       "      <th>phys_featr_2_id_99.0</th>\n",
       "    </tr>\n",
       "    <tr>\n",
       "      <th>crash_id</th>\n",
       "      <th></th>\n",
       "      <th></th>\n",
       "      <th></th>\n",
       "      <th></th>\n",
       "      <th></th>\n",
       "      <th></th>\n",
       "      <th></th>\n",
       "      <th></th>\n",
       "      <th></th>\n",
       "      <th></th>\n",
       "      <th></th>\n",
       "      <th></th>\n",
       "      <th></th>\n",
       "      <th></th>\n",
       "      <th></th>\n",
       "      <th></th>\n",
       "      <th></th>\n",
       "      <th></th>\n",
       "      <th></th>\n",
       "      <th></th>\n",
       "      <th></th>\n",
       "    </tr>\n",
       "  </thead>\n",
       "  <tbody>\n",
       "    <tr>\n",
       "      <td>16175718</td>\n",
       "      <td>1</td>\n",
       "      <td>45</td>\n",
       "      <td>0</td>\n",
       "      <td>0</td>\n",
       "      <td>0</td>\n",
       "      <td>0</td>\n",
       "      <td>0</td>\n",
       "      <td>0</td>\n",
       "      <td>1</td>\n",
       "      <td>1</td>\n",
       "      <td>...</td>\n",
       "      <td>0</td>\n",
       "      <td>0</td>\n",
       "      <td>0</td>\n",
       "      <td>0</td>\n",
       "      <td>0</td>\n",
       "      <td>1</td>\n",
       "      <td>0</td>\n",
       "      <td>0</td>\n",
       "      <td>0</td>\n",
       "      <td>0</td>\n",
       "    </tr>\n",
       "    <tr>\n",
       "      <td>16175732</td>\n",
       "      <td>1</td>\n",
       "      <td>50</td>\n",
       "      <td>0</td>\n",
       "      <td>0</td>\n",
       "      <td>0</td>\n",
       "      <td>0</td>\n",
       "      <td>1</td>\n",
       "      <td>0</td>\n",
       "      <td>1</td>\n",
       "      <td>1</td>\n",
       "      <td>...</td>\n",
       "      <td>0</td>\n",
       "      <td>0</td>\n",
       "      <td>0</td>\n",
       "      <td>0</td>\n",
       "      <td>0</td>\n",
       "      <td>1</td>\n",
       "      <td>0</td>\n",
       "      <td>0</td>\n",
       "      <td>0</td>\n",
       "      <td>0</td>\n",
       "    </tr>\n",
       "    <tr>\n",
       "      <td>16175748</td>\n",
       "      <td>1</td>\n",
       "      <td>40</td>\n",
       "      <td>0</td>\n",
       "      <td>0</td>\n",
       "      <td>0</td>\n",
       "      <td>0</td>\n",
       "      <td>0</td>\n",
       "      <td>0</td>\n",
       "      <td>1</td>\n",
       "      <td>0</td>\n",
       "      <td>...</td>\n",
       "      <td>0</td>\n",
       "      <td>0</td>\n",
       "      <td>0</td>\n",
       "      <td>0</td>\n",
       "      <td>0</td>\n",
       "      <td>1</td>\n",
       "      <td>0</td>\n",
       "      <td>0</td>\n",
       "      <td>0</td>\n",
       "      <td>0</td>\n",
       "    </tr>\n",
       "    <tr>\n",
       "      <td>16175763</td>\n",
       "      <td>1</td>\n",
       "      <td>50</td>\n",
       "      <td>0</td>\n",
       "      <td>0</td>\n",
       "      <td>0</td>\n",
       "      <td>0</td>\n",
       "      <td>1</td>\n",
       "      <td>0</td>\n",
       "      <td>1</td>\n",
       "      <td>0</td>\n",
       "      <td>...</td>\n",
       "      <td>0</td>\n",
       "      <td>0</td>\n",
       "      <td>0</td>\n",
       "      <td>0</td>\n",
       "      <td>0</td>\n",
       "      <td>1</td>\n",
       "      <td>0</td>\n",
       "      <td>0</td>\n",
       "      <td>0</td>\n",
       "      <td>0</td>\n",
       "    </tr>\n",
       "    <tr>\n",
       "      <td>16175813</td>\n",
       "      <td>2</td>\n",
       "      <td>30</td>\n",
       "      <td>0</td>\n",
       "      <td>0</td>\n",
       "      <td>0</td>\n",
       "      <td>0</td>\n",
       "      <td>0</td>\n",
       "      <td>0</td>\n",
       "      <td>0</td>\n",
       "      <td>0</td>\n",
       "      <td>...</td>\n",
       "      <td>0</td>\n",
       "      <td>0</td>\n",
       "      <td>0</td>\n",
       "      <td>0</td>\n",
       "      <td>0</td>\n",
       "      <td>1</td>\n",
       "      <td>0</td>\n",
       "      <td>0</td>\n",
       "      <td>0</td>\n",
       "      <td>0</td>\n",
       "    </tr>\n",
       "  </tbody>\n",
       "</table>\n",
       "<p>5 rows × 146 columns</p>\n",
       "</div>"
      ],
      "text/plain": [
       "          day_of_week  crash_speed_limit  active_school_zone_fl  rr_relat_fl  \\\n",
       "crash_id                                                                       \n",
       "16175718            1                 45                      0            0   \n",
       "16175732            1                 50                      0            0   \n",
       "16175748            1                 40                      0            0   \n",
       "16175763            1                 50                      0            0   \n",
       "16175813            2                 30                      0            0   \n",
       "\n",
       "          road_constr_zone_wrkr_fl  road_constr_zone_fl  onsys_fl  rural_fl  \\\n",
       "crash_id                                                                      \n",
       "16175718                         0                    0         0         0   \n",
       "16175732                         0                    0         1         0   \n",
       "16175748                         0                    0         0         0   \n",
       "16175763                         0                    0         1         0   \n",
       "16175813                         0                    0         0         0   \n",
       "\n",
       "          holiday  comut_hrs  ...  phys_featr_2_id_12.0  phys_featr_2_id_14.0  \\\n",
       "crash_id                      ...                                               \n",
       "16175718        1          1  ...                     0                     0   \n",
       "16175732        1          1  ...                     0                     0   \n",
       "16175748        1          0  ...                     0                     0   \n",
       "16175763        1          0  ...                     0                     0   \n",
       "16175813        0          0  ...                     0                     0   \n",
       "\n",
       "          phys_featr_2_id_15.0  phys_featr_2_id_17.0  phys_featr_2_id_20.0  \\\n",
       "crash_id                                                                     \n",
       "16175718                     0                     0                     0   \n",
       "16175732                     0                     0                     0   \n",
       "16175748                     0                     0                     0   \n",
       "16175763                     0                     0                     0   \n",
       "16175813                     0                     0                     0   \n",
       "\n",
       "          phys_featr_2_id_21.0  phys_featr_2_id_32.0  phys_featr_2_id_33.0  \\\n",
       "crash_id                                                                     \n",
       "16175718                     1                     0                     0   \n",
       "16175732                     1                     0                     0   \n",
       "16175748                     1                     0                     0   \n",
       "16175763                     1                     0                     0   \n",
       "16175813                     1                     0                     0   \n",
       "\n",
       "          phys_featr_2_id_98.0  phys_featr_2_id_99.0  \n",
       "crash_id                                              \n",
       "16175718                     0                     0  \n",
       "16175732                     0                     0  \n",
       "16175748                     0                     0  \n",
       "16175763                     0                     0  \n",
       "16175813                     0                     0  \n",
       "\n",
       "[5 rows x 146 columns]"
      ]
     },
     "execution_count": 8,
     "metadata": {},
     "output_type": "execute_result"
    }
   ],
   "source": [
    "X.head()"
   ]
  },
  {
   "cell_type": "code",
   "execution_count": 9,
   "metadata": {},
   "outputs": [
    {
     "data": {
      "text/plain": [
       "0    218957\n",
       "1      1214\n",
       "Name: crash_fatal_fl, dtype: int64"
      ]
     },
     "execution_count": 9,
     "metadata": {},
     "output_type": "execute_result"
    }
   ],
   "source": [
    "# baseline\n",
    "#check y for weird values\n",
    "y.value_counts()\n",
    "#chance of an accident being fatal in the last 10 years is .5%"
   ]
  },
  {
   "cell_type": "markdown",
   "metadata": {},
   "source": [
    "# create confusion matrix to review Type I and II errors.\n",
    "df_confusion = pd.crosstab(y_train, y_pred, rownames=['Actual'], colnames=['Predicted'], margins=True)\n",
    "df_confusion"
   ]
  },
  {
   "cell_type": "code",
   "execution_count": 10,
   "metadata": {},
   "outputs": [
    {
     "data": {
      "text/plain": [
       "1    146694\n",
       "0    146694\n",
       "Name: crash_fatal_fl, dtype: int64"
      ]
     },
     "execution_count": 10,
     "metadata": {},
     "output_type": "execute_result"
    }
   ],
   "source": [
    "# Confusion Matrix shows an extreme Data imbalance and a significant Type I error rate.\n",
    "\n",
    "#https://towardsdatascience.com/methods-for-dealing-with-imbalanced-data-5b761be45a18\n",
    "\n",
    "from sklearn.utils import resample\n",
    "\n",
    "# Separate input features and target\n",
    "X = features\n",
    "y = cx_df['crash_fatal_fl']\n",
    "\n",
    "# setting up testing and training sets\n",
    "X_train, X_test, y_train, y_test = train_test_split(X, y, test_size=0.33, random_state=789)\n",
    "\n",
    "# concatenate our training data back together\n",
    "X = pd.concat([X_train, y_train], axis=1)\n",
    "\n",
    "# separate minority and majority classes\n",
    "not_fatal = X[X.crash_fatal_fl==0]\n",
    "fatal = X[X.crash_fatal_fl==1]\n",
    "\n",
    "# upsample minority\n",
    "fatal_upsampled = resample(fatal,\n",
    "                          replace=True, # sample with replacement\n",
    "                          n_samples=len(not_fatal), # match number in majority class\n",
    "                          random_state=789) # reproducible results\n",
    "\n",
    "# combine majority and upsampled minority\n",
    "upsampled = pd.concat([not_fatal, fatal_upsampled])\n",
    "\n",
    "# check new class counts\n",
    "upsampled.crash_fatal_fl.value_counts()"
   ]
  },
  {
   "cell_type": "code",
   "execution_count": 11,
   "metadata": {},
   "outputs": [],
   "source": [
    "y_train = upsampled.crash_fatal_fl\n",
    "X_train = upsampled.drop('crash_fatal_fl', axis=1)"
   ]
  },
  {
   "cell_type": "code",
   "execution_count": 12,
   "metadata": {},
   "outputs": [
    {
     "data": {
      "text/plain": [
       "(72657,)"
      ]
     },
     "execution_count": 12,
     "metadata": {},
     "output_type": "execute_result"
    }
   ],
   "source": [
    "y_test.shape"
   ]
  },
  {
   "cell_type": "code",
   "execution_count": 13,
   "metadata": {},
   "outputs": [],
   "source": [
    "up_lr = LogisticRegression(solver='lbfgs', max_iter=5000).fit(X_train, y_train)\n",
    "up_pred = up_lr.predict(X_test)"
   ]
  },
  {
   "cell_type": "code",
   "execution_count": 14,
   "metadata": {},
   "outputs": [
    {
     "data": {
      "text/plain": [
       "0.7205637447183341"
      ]
     },
     "execution_count": 14,
     "metadata": {},
     "output_type": "execute_result"
    }
   ],
   "source": [
    "accuracy_score(y_test, up_pred)"
   ]
  },
  {
   "cell_type": "code",
   "execution_count": 15,
   "metadata": {},
   "outputs": [
    {
     "data": {
      "text/plain": [
       "0.02478505211585571"
      ]
     },
     "execution_count": 15,
     "metadata": {},
     "output_type": "execute_result"
    }
   ],
   "source": [
    "#harmony score\n",
    "f1_score(y_test, up_pred)"
   ]
  },
  {
   "cell_type": "code",
   "execution_count": 16,
   "metadata": {},
   "outputs": [
    {
     "data": {
      "text/plain": [
       "array([-1.78036438])"
      ]
     },
     "execution_count": 16,
     "metadata": {},
     "output_type": "execute_result"
    }
   ],
   "source": [
    "up_lr.intercept_"
   ]
  },
  {
   "cell_type": "code",
   "execution_count": 17,
   "metadata": {},
   "outputs": [
    {
     "data": {
      "text/plain": [
       "0.6548223350253807"
      ]
     },
     "execution_count": 17,
     "metadata": {},
     "output_type": "execute_result"
    }
   ],
   "source": [
    "recall_score(y_test, up_pred)"
   ]
  },
  {
   "cell_type": "code",
   "execution_count": 18,
   "metadata": {},
   "outputs": [],
   "source": [
    "up_y_pred = up_lr.predict(X_train)\n",
    "# up_df_confusion = pd.crosstab(y_train, up_y_pred, rownames=['Actual'], colnames=['Predicted'], margins=True)\n",
    "# up_df_confusion"
   ]
  },
  {
   "cell_type": "code",
   "execution_count": 19,
   "metadata": {},
   "outputs": [],
   "source": [
    "up_y_pred = up_lr.predict(X_test)"
   ]
  },
  {
   "cell_type": "code",
   "execution_count": 20,
   "metadata": {},
   "outputs": [
    {
     "data": {
      "text/plain": [
       "array([0, 1])"
      ]
     },
     "execution_count": 20,
     "metadata": {},
     "output_type": "execute_result"
    }
   ],
   "source": [
    "up_lr.classes_"
   ]
  },
  {
   "cell_type": "code",
   "execution_count": 21,
   "metadata": {},
   "outputs": [
    {
     "data": {
      "text/html": [
       "<div>\n",
       "<style scoped>\n",
       "    .dataframe tbody tr th:only-of-type {\n",
       "        vertical-align: middle;\n",
       "    }\n",
       "\n",
       "    .dataframe tbody tr th {\n",
       "        vertical-align: top;\n",
       "    }\n",
       "\n",
       "    .dataframe thead th {\n",
       "        text-align: right;\n",
       "    }\n",
       "</style>\n",
       "<table border=\"1\" class=\"dataframe\">\n",
       "  <thead>\n",
       "    <tr style=\"text-align: right;\">\n",
       "      <th></th>\n",
       "      <th>Pred Non-fatal</th>\n",
       "      <th>Pred Fatal</th>\n",
       "    </tr>\n",
       "  </thead>\n",
       "  <tbody>\n",
       "    <tr>\n",
       "      <td>Actual Non-Fatal</td>\n",
       "      <td>52096</td>\n",
       "      <td>20167</td>\n",
       "    </tr>\n",
       "    <tr>\n",
       "      <td>Actual Fatal</td>\n",
       "      <td>136</td>\n",
       "      <td>258</td>\n",
       "    </tr>\n",
       "  </tbody>\n",
       "</table>\n",
       "</div>"
      ],
      "text/plain": [
       "                  Pred Non-fatal  Pred Fatal\n",
       "Actual Non-Fatal           52096       20167\n",
       "Actual Fatal                 136         258"
      ]
     },
     "execution_count": 21,
     "metadata": {},
     "output_type": "execute_result"
    }
   ],
   "source": [
    "up_cm_test= confusion_matrix(y_test, up_y_pred)\n",
    "pd.DataFrame(up_cm_test, columns= ['Pred Non-fatal', 'Pred Fatal'], index=['Actual Non-Fatal', 'Actual Fatal'] )"
   ]
  },
  {
   "cell_type": "code",
   "execution_count": 22,
   "metadata": {},
   "outputs": [],
   "source": [
    "import pickle\n",
    "#export the LR Model to be used in Analysis\n",
    "pickle.dump(up_lr, open( \"up_lr_2.p\", \"wb\" ) )"
   ]
  },
  {
   "cell_type": "markdown",
   "metadata": {},
   "source": [
    "    - a k-nearest neighbors model\n",
    "    - a decision tree\n",
    "    - a set of bagged decision trees\n",
    "    - a random forest\n",
    "    - an Adaboost model\n",
    "    - a support vector classifier"
   ]
  },
  {
   "cell_type": "code",
   "execution_count": 23,
   "metadata": {},
   "outputs": [],
   "source": [
    "#from Lab week 6\n",
    "def train_eval_model(model):\n",
    "    model_name= model.__str__().split('(')[0]\n",
    "    model.fit(X_train, y_train)\n",
    "    print(model.score(X_train, y_train))\n",
    "    print(model.score(X_test, y_test))\n",
    "    print(model.score(X_train, y_train) - model.score(X_test, y_test))\n",
    "\n",
    "    model_preds = model.predict(X_test)\n",
    "    model_preds_train = model.predict(X_train)\n",
    "    print(f1_score(y_train, model_preds_train, average=None)) \n",
    "    print(f1_score(y_test, model_preds, average=None))\n",
    "    return model"
   ]
  },
  {
   "cell_type": "code",
   "execution_count": null,
   "metadata": {},
   "outputs": [],
   "source": [
    "knn = train_eval_model(KNeighborsClassifier(n_jobs=-1))"
   ]
  },
  {
   "cell_type": "code",
   "execution_count": null,
   "metadata": {},
   "outputs": [],
   "source": [
    "# crosstab cm function from: https://stackoverflow.com/questions/2148543/how-to-write-a-confusion-matrix-in-python\n",
    "KNeighborsClassifier_preds = knn.predict(X_test)\n",
    "knn_confusion = pd.crosstab(y_test, KNeighborsClassifier_preds, rownames=['Actual'], colnames=['Predicted'], margins=True)\n",
    "knn_confusion"
   ]
  },
  {
   "cell_type": "code",
   "execution_count": null,
   "metadata": {},
   "outputs": [],
   "source": [
    "dt = train_eval_model(DecisionTreeClassifier())"
   ]
  },
  {
   "cell_type": "code",
   "execution_count": null,
   "metadata": {},
   "outputs": [],
   "source": [
    "DecisionsTreeClassifier_preds = dt.predict(X_test)\n",
    "dt_confusion = pd.crosstab(y_test, DecisionsTreeClassifier_preds, rownames=['Actual'], colnames=['Predicted'], margins=True)\n",
    "dt_confusion"
   ]
  },
  {
   "cell_type": "code",
   "execution_count": null,
   "metadata": {},
   "outputs": [],
   "source": [
    "rf = train_eval_model(RandomForestClassifier())"
   ]
  },
  {
   "cell_type": "code",
   "execution_count": null,
   "metadata": {},
   "outputs": [],
   "source": [
    "RandomForestClassifier_preds = rf.predict(X_test)\n",
    "rf_confusion = pd.crosstab(y_test, RandomForestClassifier_preds, rownames=['Actual'], colnames=['Predicted'], margins=True)\n",
    "rf_confusion"
   ]
  },
  {
   "cell_type": "code",
   "execution_count": null,
   "metadata": {},
   "outputs": [],
   "source": [
    "bag = train_eval_model(BaggingClassifier())"
   ]
  },
  {
   "cell_type": "code",
   "execution_count": null,
   "metadata": {},
   "outputs": [],
   "source": [
    "BaggingClassifier_preds = bag.predict(X_test)\n",
    "rf_confusion = pd.crosstab(y_test, BaggingClassifier_preds, rownames=['Actual'], colnames=['Predicted'], margins=True)\n",
    "rf_confusion"
   ]
  },
  {
   "cell_type": "code",
   "execution_count": 25,
   "metadata": {},
   "outputs": [
    {
     "name": "stdout",
     "output_type": "stream",
     "text": [
      "0.7108641116882762\n",
      "0.7188570956686898\n",
      "-0.007992983980413593\n",
      "[0.71394995 0.70771097]\n",
      "[0.83576546 0.02435879]\n"
     ]
    }
   ],
   "source": [
    "adb = train_eval_model(AdaBoostClassifier())"
   ]
  },
  {
   "cell_type": "code",
   "execution_count": 26,
   "metadata": {},
   "outputs": [
    {
     "data": {
      "text/html": [
       "<div>\n",
       "<style scoped>\n",
       "    .dataframe tbody tr th:only-of-type {\n",
       "        vertical-align: middle;\n",
       "    }\n",
       "\n",
       "    .dataframe tbody tr th {\n",
       "        vertical-align: top;\n",
       "    }\n",
       "\n",
       "    .dataframe thead th {\n",
       "        text-align: right;\n",
       "    }\n",
       "</style>\n",
       "<table border=\"1\" class=\"dataframe\">\n",
       "  <thead>\n",
       "    <tr style=\"text-align: right;\">\n",
       "      <th>Predicted</th>\n",
       "      <th>0</th>\n",
       "      <th>1</th>\n",
       "      <th>All</th>\n",
       "    </tr>\n",
       "    <tr>\n",
       "      <th>Actual</th>\n",
       "      <th></th>\n",
       "      <th></th>\n",
       "      <th></th>\n",
       "    </tr>\n",
       "  </thead>\n",
       "  <tbody>\n",
       "    <tr>\n",
       "      <td>0</td>\n",
       "      <td>51975</td>\n",
       "      <td>20288</td>\n",
       "      <td>72263</td>\n",
       "    </tr>\n",
       "    <tr>\n",
       "      <td>1</td>\n",
       "      <td>139</td>\n",
       "      <td>255</td>\n",
       "      <td>394</td>\n",
       "    </tr>\n",
       "    <tr>\n",
       "      <td>All</td>\n",
       "      <td>52114</td>\n",
       "      <td>20543</td>\n",
       "      <td>72657</td>\n",
       "    </tr>\n",
       "  </tbody>\n",
       "</table>\n",
       "</div>"
      ],
      "text/plain": [
       "Predicted      0      1    All\n",
       "Actual                        \n",
       "0          51975  20288  72263\n",
       "1            139    255    394\n",
       "All        52114  20543  72657"
      ]
     },
     "execution_count": 26,
     "metadata": {},
     "output_type": "execute_result"
    }
   ],
   "source": [
    "AdaBoostClassifier_preds = adb.predict(X_test)\n",
    "adb_confusion = pd.crosstab(y_test, AdaBoostClassifier_preds, rownames=['Actual'], colnames=['Predicted'], margins=True)\n",
    "adb_confusion"
   ]
  },
  {
   "cell_type": "code",
   "execution_count": 27,
   "metadata": {},
   "outputs": [
    {
     "name": "stdout",
     "output_type": "stream",
     "text": [
      "              precision    recall  f1-score   support\n",
      "\n",
      "           0       1.00      0.72      0.84     72263\n",
      "           1       0.01      0.65      0.02       394\n",
      "\n",
      "    accuracy                           0.72     72657\n",
      "   macro avg       0.50      0.68      0.43     72657\n",
      "weighted avg       0.99      0.72      0.83     72657\n",
      "\n"
     ]
    }
   ],
   "source": [
    "from sklearn.metrics import classification_report\n",
    "print(classification_report(y_test, AdaBoostClassifier_preds))"
   ]
  },
  {
   "cell_type": "code",
   "execution_count": 28,
   "metadata": {},
   "outputs": [],
   "source": [
    "adb_feature = pd.DataFrame(adb.feature_importances_, index=X_train.columns)"
   ]
  },
  {
   "cell_type": "code",
   "execution_count": 30,
   "metadata": {},
   "outputs": [
    {
     "data": {
      "text/html": [
       "<div>\n",
       "<style scoped>\n",
       "    .dataframe tbody tr th:only-of-type {\n",
       "        vertical-align: middle;\n",
       "    }\n",
       "\n",
       "    .dataframe tbody tr th {\n",
       "        vertical-align: top;\n",
       "    }\n",
       "\n",
       "    .dataframe thead th {\n",
       "        text-align: right;\n",
       "    }\n",
       "</style>\n",
       "<table border=\"1\" class=\"dataframe\">\n",
       "  <thead>\n",
       "    <tr style=\"text-align: right;\">\n",
       "      <th></th>\n",
       "      <th>0</th>\n",
       "    </tr>\n",
       "  </thead>\n",
       "  <tbody>\n",
       "    <tr>\n",
       "      <td>city_id_246</td>\n",
       "      <td>0.02</td>\n",
       "    </tr>\n",
       "    <tr>\n",
       "      <td>city_id_538</td>\n",
       "      <td>0.02</td>\n",
       "    </tr>\n",
       "    <tr>\n",
       "      <td>city_id_72</td>\n",
       "      <td>0.02</td>\n",
       "    </tr>\n",
       "    <tr>\n",
       "      <td>surf_cond_id_10</td>\n",
       "      <td>0.02</td>\n",
       "    </tr>\n",
       "    <tr>\n",
       "      <td>rpt_rdwy_sys_id_11</td>\n",
       "      <td>0.02</td>\n",
       "    </tr>\n",
       "    <tr>\n",
       "      <td>rpt_rdwy_sys_id_12</td>\n",
       "      <td>0.02</td>\n",
       "    </tr>\n",
       "    <tr>\n",
       "      <td>rpt_rdwy_sys_id_15</td>\n",
       "      <td>0.02</td>\n",
       "    </tr>\n",
       "    <tr>\n",
       "      <td>rpt_rdwy_sys_id_3</td>\n",
       "      <td>0.02</td>\n",
       "    </tr>\n",
       "    <tr>\n",
       "      <td>rpt_rdwy_sys_id_5</td>\n",
       "      <td>0.02</td>\n",
       "    </tr>\n",
       "    <tr>\n",
       "      <td>rpt_rdwy_sys_id_6</td>\n",
       "      <td>0.02</td>\n",
       "    </tr>\n",
       "    <tr>\n",
       "      <td>intrsct_relat_id_1.0</td>\n",
       "      <td>0.02</td>\n",
       "    </tr>\n",
       "    <tr>\n",
       "      <td>intrsct_relat_id_2.0</td>\n",
       "      <td>0.02</td>\n",
       "    </tr>\n",
       "    <tr>\n",
       "      <td>intrsct_relat_id_4.0</td>\n",
       "      <td>0.02</td>\n",
       "    </tr>\n",
       "    <tr>\n",
       "      <td>road_part_adj_id_3</td>\n",
       "      <td>0.02</td>\n",
       "    </tr>\n",
       "    <tr>\n",
       "      <td>road_cls_id_1</td>\n",
       "      <td>0.02</td>\n",
       "    </tr>\n",
       "    <tr>\n",
       "      <td>road_cls_id_3</td>\n",
       "      <td>0.02</td>\n",
       "    </tr>\n",
       "    <tr>\n",
       "      <td>phys_featr_1_id_12.0</td>\n",
       "      <td>0.02</td>\n",
       "    </tr>\n",
       "    <tr>\n",
       "      <td>phys_featr_1_id_15.0</td>\n",
       "      <td>0.02</td>\n",
       "    </tr>\n",
       "    <tr>\n",
       "      <td>city_id_451</td>\n",
       "      <td>0.02</td>\n",
       "    </tr>\n",
       "    <tr>\n",
       "      <td>city_id_421</td>\n",
       "      <td>0.02</td>\n",
       "    </tr>\n",
       "    <tr>\n",
       "      <td>phys_featr_1_id_33.0</td>\n",
       "      <td>0.02</td>\n",
       "    </tr>\n",
       "    <tr>\n",
       "      <td>wthr_cond_id_12</td>\n",
       "      <td>0.02</td>\n",
       "    </tr>\n",
       "    <tr>\n",
       "      <td>rural_fl</td>\n",
       "      <td>0.02</td>\n",
       "    </tr>\n",
       "    <tr>\n",
       "      <td>holiday</td>\n",
       "      <td>0.02</td>\n",
       "    </tr>\n",
       "    <tr>\n",
       "      <td>comut_hrs</td>\n",
       "      <td>0.02</td>\n",
       "    </tr>\n",
       "    <tr>\n",
       "      <td>late_night</td>\n",
       "      <td>0.02</td>\n",
       "    </tr>\n",
       "    <tr>\n",
       "      <td>wthr_cond_id_0</td>\n",
       "      <td>0.02</td>\n",
       "    </tr>\n",
       "    <tr>\n",
       "      <td>phys_featr_1_id_20.0</td>\n",
       "      <td>0.02</td>\n",
       "    </tr>\n",
       "    <tr>\n",
       "      <td>wthr_cond_id_2</td>\n",
       "      <td>0.02</td>\n",
       "    </tr>\n",
       "    <tr>\n",
       "      <td>wthr_cond_id_7</td>\n",
       "      <td>0.02</td>\n",
       "    </tr>\n",
       "    <tr>\n",
       "      <td>light_cond_id_0</td>\n",
       "      <td>0.02</td>\n",
       "    </tr>\n",
       "    <tr>\n",
       "      <td>light_cond_id_1</td>\n",
       "      <td>0.02</td>\n",
       "    </tr>\n",
       "    <tr>\n",
       "      <td>light_cond_id_2</td>\n",
       "      <td>0.02</td>\n",
       "    </tr>\n",
       "    <tr>\n",
       "      <td>light_cond_id_4</td>\n",
       "      <td>0.02</td>\n",
       "    </tr>\n",
       "    <tr>\n",
       "      <td>light_cond_id_6</td>\n",
       "      <td>0.02</td>\n",
       "    </tr>\n",
       "    <tr>\n",
       "      <td>city_id_1088</td>\n",
       "      <td>0.02</td>\n",
       "    </tr>\n",
       "    <tr>\n",
       "      <td>city_id_1378</td>\n",
       "      <td>0.02</td>\n",
       "    </tr>\n",
       "    <tr>\n",
       "      <td>onsys_fl</td>\n",
       "      <td>0.02</td>\n",
       "    </tr>\n",
       "    <tr>\n",
       "      <td>rr_relat_fl</td>\n",
       "      <td>0.02</td>\n",
       "    </tr>\n",
       "    <tr>\n",
       "      <td>city_id_22</td>\n",
       "      <td>0.04</td>\n",
       "    </tr>\n",
       "    <tr>\n",
       "      <td>day_of_week</td>\n",
       "      <td>0.04</td>\n",
       "    </tr>\n",
       "    <tr>\n",
       "      <td>crash_speed_limit</td>\n",
       "      <td>0.14</td>\n",
       "    </tr>\n",
       "  </tbody>\n",
       "</table>\n",
       "</div>"
      ],
      "text/plain": [
       "                         0\n",
       "city_id_246           0.02\n",
       "city_id_538           0.02\n",
       "city_id_72            0.02\n",
       "surf_cond_id_10       0.02\n",
       "rpt_rdwy_sys_id_11    0.02\n",
       "rpt_rdwy_sys_id_12    0.02\n",
       "rpt_rdwy_sys_id_15    0.02\n",
       "rpt_rdwy_sys_id_3     0.02\n",
       "rpt_rdwy_sys_id_5     0.02\n",
       "rpt_rdwy_sys_id_6     0.02\n",
       "intrsct_relat_id_1.0  0.02\n",
       "intrsct_relat_id_2.0  0.02\n",
       "intrsct_relat_id_4.0  0.02\n",
       "road_part_adj_id_3    0.02\n",
       "road_cls_id_1         0.02\n",
       "road_cls_id_3         0.02\n",
       "phys_featr_1_id_12.0  0.02\n",
       "phys_featr_1_id_15.0  0.02\n",
       "city_id_451           0.02\n",
       "city_id_421           0.02\n",
       "phys_featr_1_id_33.0  0.02\n",
       "wthr_cond_id_12       0.02\n",
       "rural_fl              0.02\n",
       "holiday               0.02\n",
       "comut_hrs             0.02\n",
       "late_night            0.02\n",
       "wthr_cond_id_0        0.02\n",
       "phys_featr_1_id_20.0  0.02\n",
       "wthr_cond_id_2        0.02\n",
       "wthr_cond_id_7        0.02\n",
       "light_cond_id_0       0.02\n",
       "light_cond_id_1       0.02\n",
       "light_cond_id_2       0.02\n",
       "light_cond_id_4       0.02\n",
       "light_cond_id_6       0.02\n",
       "city_id_1088          0.02\n",
       "city_id_1378          0.02\n",
       "onsys_fl              0.02\n",
       "rr_relat_fl           0.02\n",
       "city_id_22            0.04\n",
       "day_of_week           0.04\n",
       "crash_speed_limit     0.14"
      ]
     },
     "execution_count": 30,
     "metadata": {},
     "output_type": "execute_result"
    }
   ],
   "source": [
    "adb_feature.loc[adb_feature[0] > .01].sort_values([0])"
   ]
  },
  {
   "cell_type": "code",
   "execution_count": null,
   "metadata": {},
   "outputs": [],
   "source": [
    "svc = train_eval_model(SVC())"
   ]
  },
  {
   "cell_type": "code",
   "execution_count": null,
   "metadata": {},
   "outputs": [],
   "source": [
    "SVC_preds = svc.predict(X_test)\n",
    "svc_confusion = pd.crosstab(y_test, SVC_preds, rownames=['Actual'], colnames=['Predicted'], margins=True)\n",
    "svc_confusion"
   ]
  },
  {
   "cell_type": "code",
   "execution_count": 31,
   "metadata": {},
   "outputs": [],
   "source": [
    "from sklearn.model_selection import GridSearchCV"
   ]
  },
  {
   "cell_type": "code",
   "execution_count": 32,
   "metadata": {},
   "outputs": [],
   "source": [
    "ada_params = {'learning_rate':[1],\n",
    "    'n_estimators':[200,100,150],\n",
    "              'algorithm': ['SAMME.R', 'SAMME'],\n",
    "    'random_state':[789]\n",
    "}"
   ]
  },
  {
   "cell_type": "code",
   "execution_count": 33,
   "metadata": {},
   "outputs": [],
   "source": [
    "ada_gridsearch = GridSearchCV(AdaBoostClassifier(), \n",
    "                              ada_params, \n",
    "                              cv=3, \n",
    "                              verbose=4,\n",
    "                             n_jobs=-1)"
   ]
  },
  {
   "cell_type": "code",
   "execution_count": 34,
   "metadata": {},
   "outputs": [
    {
     "name": "stdout",
     "output_type": "stream",
     "text": [
      "Fitting 3 folds for each of 6 candidates, totalling 18 fits\n"
     ]
    },
    {
     "name": "stderr",
     "output_type": "stream",
     "text": [
      "[Parallel(n_jobs=-1)]: Using backend LokyBackend with 8 concurrent workers.\n",
      "[Parallel(n_jobs=-1)]: Done   8 out of  18 | elapsed:  3.5min remaining:  4.4min\n",
      "[Parallel(n_jobs=-1)]: Done  13 out of  18 | elapsed:  5.1min remaining:  2.0min\n",
      "[Parallel(n_jobs=-1)]: Done  18 out of  18 | elapsed:  5.9min remaining:    0.0s\n",
      "[Parallel(n_jobs=-1)]: Done  18 out of  18 | elapsed:  5.9min finished\n"
     ]
    }
   ],
   "source": [
    "ada_gridsearch.fit(X_train, y_train);"
   ]
  },
  {
   "cell_type": "code",
   "execution_count": 35,
   "metadata": {},
   "outputs": [
    {
     "data": {
      "text/plain": [
       "0.7181684322467177"
      ]
     },
     "execution_count": 35,
     "metadata": {},
     "output_type": "execute_result"
    }
   ],
   "source": [
    "ada_gridsearch.best_score_"
   ]
  },
  {
   "cell_type": "code",
   "execution_count": 36,
   "metadata": {},
   "outputs": [
    {
     "data": {
      "text/plain": [
       "AdaBoostClassifier(algorithm='SAMME.R', base_estimator=None, learning_rate=1,\n",
       "                   n_estimators=200, random_state=789)"
      ]
     },
     "execution_count": 36,
     "metadata": {},
     "output_type": "execute_result"
    }
   ],
   "source": [
    "ada_gridsearch.best_estimator_"
   ]
  },
  {
   "cell_type": "code",
   "execution_count": 37,
   "metadata": {},
   "outputs": [],
   "source": [
    "ada_gs_preds = ada_gridsearch.predict(X_test)"
   ]
  },
  {
   "cell_type": "code",
   "execution_count": 38,
   "metadata": {},
   "outputs": [
    {
     "data": {
      "text/html": [
       "<div>\n",
       "<style scoped>\n",
       "    .dataframe tbody tr th:only-of-type {\n",
       "        vertical-align: middle;\n",
       "    }\n",
       "\n",
       "    .dataframe tbody tr th {\n",
       "        vertical-align: top;\n",
       "    }\n",
       "\n",
       "    .dataframe thead th {\n",
       "        text-align: right;\n",
       "    }\n",
       "</style>\n",
       "<table border=\"1\" class=\"dataframe\">\n",
       "  <thead>\n",
       "    <tr style=\"text-align: right;\">\n",
       "      <th>Predicted</th>\n",
       "      <th>0</th>\n",
       "      <th>1</th>\n",
       "      <th>All</th>\n",
       "    </tr>\n",
       "    <tr>\n",
       "      <th>Actual</th>\n",
       "      <th></th>\n",
       "      <th></th>\n",
       "      <th></th>\n",
       "    </tr>\n",
       "  </thead>\n",
       "  <tbody>\n",
       "    <tr>\n",
       "      <td>0</td>\n",
       "      <td>52492</td>\n",
       "      <td>19771</td>\n",
       "      <td>72263</td>\n",
       "    </tr>\n",
       "    <tr>\n",
       "      <td>1</td>\n",
       "      <td>139</td>\n",
       "      <td>255</td>\n",
       "      <td>394</td>\n",
       "    </tr>\n",
       "    <tr>\n",
       "      <td>All</td>\n",
       "      <td>52631</td>\n",
       "      <td>20026</td>\n",
       "      <td>72657</td>\n",
       "    </tr>\n",
       "  </tbody>\n",
       "</table>\n",
       "</div>"
      ],
      "text/plain": [
       "Predicted      0      1    All\n",
       "Actual                        \n",
       "0          52492  19771  72263\n",
       "1            139    255    394\n",
       "All        52631  20026  72657"
      ]
     },
     "execution_count": 38,
     "metadata": {},
     "output_type": "execute_result"
    }
   ],
   "source": [
    "ada_gs_confusion = pd.crosstab(y_test, ada_gs_preds, rownames=['Actual'], colnames=['Predicted'], margins=True)\n",
    "ada_gs_confusion"
   ]
  },
  {
   "cell_type": "code",
   "execution_count": 44,
   "metadata": {},
   "outputs": [
    {
     "data": {
      "text/plain": [
       "3"
      ]
     },
     "execution_count": 44,
     "metadata": {},
     "output_type": "execute_result"
    }
   ],
   "source": [
    "ada_gridsearch.n_splits_"
   ]
  },
  {
   "cell_type": "code",
   "execution_count": 59,
   "metadata": {},
   "outputs": [],
   "source": [
    "ada_gs_proba_test = ada_gridsearch.predict_proba(X_test)[:,1]"
   ]
  },
  {
   "cell_type": "code",
   "execution_count": 60,
   "metadata": {},
   "outputs": [],
   "source": [
    "ada_gs_proba_train = ada_gridsearch.predict_proba(X_train)[:,1]\n"
   ]
  },
  {
   "cell_type": "code",
   "execution_count": 61,
   "metadata": {},
   "outputs": [
    {
     "data": {
      "text/plain": [
       "(293388,)"
      ]
     },
     "execution_count": 61,
     "metadata": {},
     "output_type": "execute_result"
    }
   ],
   "source": [
    "ada_gs_proba_train.shape"
   ]
  },
  {
   "cell_type": "markdown",
   "metadata": {},
   "source": [
    "https://stats.stackexchange.com/questions/110981/why-is-adaboost-predicting-probabilities-with-so-little-standard-deviation\n",
    "http://fastml.com/classifier-calibration-with-platts-scaling-and-isotonic-regression/"
   ]
  },
  {
   "cell_type": "code",
   "execution_count": 62,
   "metadata": {},
   "outputs": [],
   "source": [
    "from sklearn.isotonic import IsotonicRegression as IR\n",
    "\n",
    "ir = IR( out_of_bounds = 'clip' )\n",
    "ir.fit( ada_gs_proba_train, y_train )\n",
    "p_calibrated = ir.transform( ada_gs_proba_test )   # or ir.fit( p_test ), that's the same thing"
   ]
  },
  {
   "cell_type": "code",
   "execution_count": 70,
   "metadata": {},
   "outputs": [
    {
     "data": {
      "text/plain": [
       "Text(0.5, 1.0, 'Estimated Population for Travis and Williamson Counties')"
      ]
     },
     "execution_count": 70,
     "metadata": {},
     "output_type": "execute_result"
    },
    {
     "data": {
      "image/png": "[encoded data removed]",
      "text/plain": [
       "<Figure size 864x360 with 1 Axes>"
      ]
     },
     "metadata": {
      "needs_background": "light"
     },
     "output_type": "display_data"
    }
   ],
   "source": [
    "plt.figure(figsize=(12,5))\n",
    "plt.plot(p_calibrated, color='r')\n",
    "plt.title(\"Estimated Population for Travis and Williamson Counties\")\n"
   ]
  },
  {
   "cell_type": "code",
   "execution_count": 39,
   "metadata": {},
   "outputs": [
    {
     "name": "stdout",
     "output_type": "stream",
     "text": [
      "              precision    recall  f1-score   support\n",
      "\n",
      "           0       1.00      0.73      0.84     72263\n",
      "           1       0.01      0.65      0.02       394\n",
      "\n",
      "    accuracy                           0.73     72657\n",
      "   macro avg       0.51      0.69      0.43     72657\n",
      "weighted avg       0.99      0.73      0.84     72657\n",
      "\n"
     ]
    }
   ],
   "source": [
    "from sklearn.metrics import classification_report\n",
    "print(classification_report(y_test, ada_gs_preds))"
   ]
  },
  {
   "cell_type": "markdown",
   "metadata": {},
   "source": [
    "lr_params = {\n",
    "    '':[],\n",
    "    '':['',''],\n",
    "    '':[''],\n",
    "    '':[],\n",
    "}"
   ]
  },
  {
   "cell_type": "markdown",
   "metadata": {},
   "source": [
    "lr_gridsearch = GridSearchCV(LogisticRegression(),\n",
    "                              lr_params, \n",
    "                              cv=5, \n",
    "                              verbose=4,\n",
    "                             n_jobs=-1)"
   ]
  },
  {
   "cell_type": "code",
   "execution_count": null,
   "metadata": {},
   "outputs": [],
   "source": []
  },
  {
   "cell_type": "code",
   "execution_count": null,
   "metadata": {},
   "outputs": [],
   "source": [
    "knn_params = {\n",
    "    'n_neighbors':[3,7],\n",
    "    'weights':['uniform','distance'],\n",
    "    'algorithm':['auto'],\n",
    "    'p':[1,2],\n",
    "}"
   ]
  },
  {
   "cell_type": "markdown",
   "metadata": {},
   "source": [
    "n_neighbors=5,\n",
    "    weights='uniform',\n",
    "    algorithm='auto',\n",
    "    leaf_size=30,\n",
    "    p=2,\n",
    "    metric='minkowski',\n",
    "    metric_params=None,"
   ]
  },
  {
   "cell_type": "code",
   "execution_count": null,
   "metadata": {},
   "outputs": [],
   "source": [
    "knn_gridsearch = GridSearchCV(KNeighborsClassifier(),\n",
    "                              knn_params, \n",
    "                              cv=5, \n",
    "                              verbose=2,\n",
    "                             n_jobs=-1)"
   ]
  },
  {
   "cell_type": "code",
   "execution_count": null,
   "metadata": {},
   "outputs": [],
   "source": [
    "knn_gridsearch.fit(X_train, y_train);"
   ]
  },
  {
   "cell_type": "code",
   "execution_count": null,
   "metadata": {},
   "outputs": [],
   "source": [
    "print(knn_gridsearch.best_score_)\n",
    "knn_gridsearch.best_estimator_"
   ]
  },
  {
   "cell_type": "code",
   "execution_count": null,
   "metadata": {},
   "outputs": [],
   "source": [
    "knn_gs_preds = knn_gridsearch.predict(X_test)iKi"
   ]
  },
  {
   "cell_type": "code",
   "execution_count": null,
   "metadata": {},
   "outputs": [],
   "source": [
    "knn_gs_confusion = pd.crosstab(y_test, knn_gs_preds, rownames=['Actual'], colnames=['Predicted'], margins=True)\n",
    "knn_gs_confusion"
   ]
  },
  {
   "cell_type": "code",
   "execution_count": null,
   "metadata": {},
   "outputs": [],
   "source": []
  },
  {
   "cell_type": "code",
   "execution_count": null,
   "metadata": {},
   "outputs": [],
   "source": []
  }
 ],
 "metadata": {
  "kernelspec": {
   "display_name": "Python 3",
   "language": "python",
   "name": "python3"
  },
  "language_info": {
   "codemirror_mode": {
    "name": "ipython",
    "version": 3
   },
   "file_extension": ".py",
   "mimetype": "text/x-python",
   "name": "python",
   "nbconvert_exporter": "python",
   "pygments_lexer": "ipython3",
   "version": "3.7.4"
  }
 },
 "nbformat": 4,
 "nbformat_minor": 2
}
