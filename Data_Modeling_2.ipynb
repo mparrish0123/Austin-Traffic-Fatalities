{
 "cells": [
  {
   "cell_type": "code",
   "execution_count": 202,
   "metadata": {},
   "outputs": [],
   "source": [
    "import pandas as pd\n",
    "import numpy as np\n",
    "import matplotlib.pyplot as plt\n",
    "from math import sqrt\n",
    "from sklearn.preprocessing import StandardScaler\n",
    "from sklearn.model_selection import train_test_split, cross_val_score\n",
    "from sklearn.linear_model import LogisticRegression\n",
    "from sklearn.metrics import mean_squared_error, confusion_matrix\n",
    "from sklearn.utils.multiclass import unique_labels\n",
    "from sklearn.tree import DecisionTreeClassifier\n",
    "from sklearn.ensemble import BaggingClassifier \n",
    "from sklearn.metrics import accuracy_score, f1_score, recall_score, confusion_matrix\n",
    "from sklearn.model_selection import GridSearchCV\n",
    "from sklearn.neighbors import KNeighborsClassifier\n",
    "from sklearn.svm import SVC\n",
    "from sklearn.pipeline import Pipeline\n",
    "from sklearn.ensemble import RandomForestClassifier, ExtraTreesClassifier, GradientBoostingClassifier, AdaBoostClassifier, VotingClassifier"
   ]
  },
  {
   "cell_type": "code",
   "execution_count": 227,
   "metadata": {},
   "outputs": [
    {
     "data": {
      "text/plain": [
       "(220173, 24)"
      ]
     },
     "execution_count": 227,
     "metadata": {},
     "output_type": "execute_result"
    }
   ],
   "source": [
    "import pickle\n",
    "cx_df = pickle.load( open( \"cx_df_2.p\", \"rb\" ) )\n",
    "cx_df.shape"
   ]
  },
  {
   "cell_type": "code",
   "execution_count": 228,
   "metadata": {},
   "outputs": [],
   "source": [
    "# set index to crash_id\n",
    "cx_df = cx_df.set_index('crash_id')"
   ]
  },
  {
   "cell_type": "code",
   "execution_count": 231,
   "metadata": {},
   "outputs": [],
   "source": [
    "cx_df['day_of_week']=cx_df['day_of_week'].astype('category')"
   ]
  },
  {
   "cell_type": "code",
   "execution_count": 232,
   "metadata": {},
   "outputs": [],
   "source": [
    "# create features\n",
    "features = cx_df.drop(['crash_fatal_fl','crash_date', 'crash_time','datetime'], axis = 1)"
   ]
  },
  {
   "cell_type": "code",
   "execution_count": 233,
   "metadata": {},
   "outputs": [],
   "source": [
    "features = pd.get_dummies(features, drop_first=False)"
   ]
  },
  {
   "cell_type": "code",
   "execution_count": 234,
   "metadata": {},
   "outputs": [],
   "source": [
    "# set X and y\n",
    "X = features\n",
    "y = cx_df['crash_fatal_fl']"
   ]
  },
  {
   "cell_type": "code",
   "execution_count": 236,
   "metadata": {},
   "outputs": [
    {
     "data": {
      "text/plain": [
       "0    218959\n",
       "1      1214\n",
       "Name: crash_fatal_fl, dtype: int64"
      ]
     },
     "execution_count": 236,
     "metadata": {},
     "output_type": "execute_result"
    }
   ],
   "source": [
    "# baseline\n",
    "#check y for weird values\n",
    "y.value_counts()\n",
    "#chance of an accident being fatal in the last 10 years is .5%"
   ]
  },
  {
   "cell_type": "code",
   "execution_count": 237,
   "metadata": {},
   "outputs": [
    {
     "data": {
      "text/plain": [
       "1    146672\n",
       "0    146672\n",
       "Name: crash_fatal_fl, dtype: int64"
      ]
     },
     "execution_count": 237,
     "metadata": {},
     "output_type": "execute_result"
    }
   ],
   "source": [
    "# Confusion Matrix shows an extreme Data imbalance and a significant Type I error rate.\n",
    "\n",
    "#https://towardsdatascience.com/methods-for-dealing-with-imbalanced-data-5b761be45a18\n",
    "\n",
    "from sklearn.utils import resample\n",
    "\n",
    "# Separate input features and target\n",
    "X = features\n",
    "y = cx_df['crash_fatal_fl']\n",
    "\n",
    "# setting up testing and training sets\n",
    "X_train, X_test, y_train, y_test = train_test_split(X, y, test_size=0.33, random_state=789)\n",
    "\n",
    "# concatenate our training data back together\n",
    "X = pd.concat([X_train, y_train], axis=1)\n",
    "\n",
    "# separate minority and majority classes\n",
    "not_fatal = X[X.crash_fatal_fl==0]\n",
    "fatal = X[X.crash_fatal_fl==1]\n",
    "\n",
    "# upsample minority\n",
    "fatal_upsampled = resample(fatal,\n",
    "                          replace=True, # sample with replacement\n",
    "                          n_samples=len(not_fatal), # match number in majority class\n",
    "                          random_state=789) # reproducible results\n",
    "\n",
    "# combine majority and upsampled minority\n",
    "upsampled = pd.concat([not_fatal, fatal_upsampled])\n",
    "\n",
    "# check new class counts\n",
    "upsampled.crash_fatal_fl.value_counts()"
   ]
  },
  {
   "cell_type": "code",
   "execution_count": 238,
   "metadata": {},
   "outputs": [],
   "source": [
    "y_train = upsampled.crash_fatal_fl\n",
    "X_train = upsampled.drop('crash_fatal_fl', axis=1)"
   ]
  },
  {
   "cell_type": "code",
   "execution_count": 239,
   "metadata": {},
   "outputs": [
    {
     "data": {
      "text/plain": [
       "(72658,)"
      ]
     },
     "execution_count": 239,
     "metadata": {},
     "output_type": "execute_result"
    }
   ],
   "source": [
    "y_test.shape"
   ]
  },
  {
   "cell_type": "code",
   "execution_count": 240,
   "metadata": {},
   "outputs": [],
   "source": [
    "up_lr = LogisticRegression(solver='lbfgs', max_iter=5000).fit(X_train, y_train)\n",
    "up_pred = up_lr.predict(X_test)"
   ]
  },
  {
   "cell_type": "code",
   "execution_count": 241,
   "metadata": {},
   "outputs": [
    {
     "data": {
      "text/plain": [
       "0.7170442346334884"
      ]
     },
     "execution_count": 241,
     "metadata": {},
     "output_type": "execute_result"
    }
   ],
   "source": [
    "accuracy_score(y_test, up_pred)"
   ]
  },
  {
   "cell_type": "code",
   "execution_count": 242,
   "metadata": {},
   "outputs": [
    {
     "data": {
      "text/plain": [
       "0.02346458936968603"
      ]
     },
     "execution_count": 242,
     "metadata": {},
     "output_type": "execute_result"
    }
   ],
   "source": [
    "#harmony score\n",
    "f1_score(y_test, up_pred)"
   ]
  },
  {
   "cell_type": "code",
   "execution_count": 243,
   "metadata": {},
   "outputs": [
    {
     "data": {
      "text/plain": [
       "array([-1.04837398])"
      ]
     },
     "execution_count": 243,
     "metadata": {},
     "output_type": "execute_result"
    }
   ],
   "source": [
    "up_lr.intercept_"
   ]
  },
  {
   "cell_type": "code",
   "execution_count": 244,
   "metadata": {},
   "outputs": [
    {
     "data": {
      "text/plain": [
       "0.6657681940700808"
      ]
     },
     "execution_count": 244,
     "metadata": {},
     "output_type": "execute_result"
    }
   ],
   "source": [
    "recall_score(y_test, up_pred)"
   ]
  },
  {
   "cell_type": "code",
   "execution_count": 245,
   "metadata": {},
   "outputs": [],
   "source": [
    "up_y_pred = up_lr.predict(X_train)"
   ]
  },
  {
   "cell_type": "code",
   "execution_count": 246,
   "metadata": {},
   "outputs": [],
   "source": [
    "up_y_pred = up_lr.predict(X_test)"
   ]
  },
  {
   "cell_type": "code",
   "execution_count": 247,
   "metadata": {},
   "outputs": [
    {
     "data": {
      "text/plain": [
       "array([0, 1])"
      ]
     },
     "execution_count": 247,
     "metadata": {},
     "output_type": "execute_result"
    }
   ],
   "source": [
    "up_lr.classes_"
   ]
  },
  {
   "cell_type": "code",
   "execution_count": 264,
   "metadata": {},
   "outputs": [
    {
     "data": {
      "text/html": [
       "<div>\n",
       "<style scoped>\n",
       "    .dataframe tbody tr th:only-of-type {\n",
       "        vertical-align: middle;\n",
       "    }\n",
       "\n",
       "    .dataframe tbody tr th {\n",
       "        vertical-align: top;\n",
       "    }\n",
       "\n",
       "    .dataframe thead th {\n",
       "        text-align: right;\n",
       "    }\n",
       "</style>\n",
       "<table border=\"1\" class=\"dataframe\">\n",
       "  <thead>\n",
       "    <tr style=\"text-align: right;\">\n",
       "      <th></th>\n",
       "      <th>Predcted Non-fatal</th>\n",
       "      <th>Predicted Fatal</th>\n",
       "    </tr>\n",
       "  </thead>\n",
       "  <tbody>\n",
       "    <tr>\n",
       "      <td>Actual Non-Fatal</td>\n",
       "      <td>51852</td>\n",
       "      <td>20435</td>\n",
       "    </tr>\n",
       "    <tr>\n",
       "      <td>Actual Fatal</td>\n",
       "      <td>124</td>\n",
       "      <td>247</td>\n",
       "    </tr>\n",
       "  </tbody>\n",
       "</table>\n",
       "</div>"
      ],
      "text/plain": [
       "                  Predcted Non-fatal  Predicted Fatal\n",
       "Actual Non-Fatal               51852            20435\n",
       "Actual Fatal                     124              247"
      ]
     },
     "execution_count": 264,
     "metadata": {},
     "output_type": "execute_result"
    }
   ],
   "source": [
    "up_cm_test= confusion_matrix(y_test, up_y_pred)\n",
    "pd.DataFrame(up_cm_test, columns= ['Predcted Non-fatal', 'Predicted Fatal'], index=['Actual Non-Fatal', 'Actual Fatal'] )"
   ]
  },
  {
   "cell_type": "code",
   "execution_count": 249,
   "metadata": {},
   "outputs": [],
   "source": [
    "up_lr_coef = pd.DataFrame(np.transpose(up_lr.coef_), X_train.columns, columns=['Coefficients'])"
   ]
  },
  {
   "cell_type": "code",
   "execution_count": 252,
   "metadata": {},
   "outputs": [
    {
     "data": {
      "text/html": [
       "<div>\n",
       "<style scoped>\n",
       "    .dataframe tbody tr th:only-of-type {\n",
       "        vertical-align: middle;\n",
       "    }\n",
       "\n",
       "    .dataframe tbody tr th {\n",
       "        vertical-align: top;\n",
       "    }\n",
       "\n",
       "    .dataframe thead th {\n",
       "        text-align: right;\n",
       "    }\n",
       "</style>\n",
       "<table border=\"1\" class=\"dataframe\">\n",
       "  <thead>\n",
       "    <tr style=\"text-align: right;\">\n",
       "      <th></th>\n",
       "      <th>Coefficients</th>\n",
       "    </tr>\n",
       "  </thead>\n",
       "  <tbody>\n",
       "    <tr>\n",
       "      <td>city_id_451</td>\n",
       "      <td>-5.354888</td>\n",
       "    </tr>\n",
       "    <tr>\n",
       "      <td>city_id_1378</td>\n",
       "      <td>-5.109477</td>\n",
       "    </tr>\n",
       "    <tr>\n",
       "      <td>city_id_138</td>\n",
       "      <td>-3.095262</td>\n",
       "    </tr>\n",
       "    <tr>\n",
       "      <td>wthr_cond_id_4</td>\n",
       "      <td>-2.983766</td>\n",
       "    </tr>\n",
       "    <tr>\n",
       "      <td>wthr_cond_id_8</td>\n",
       "      <td>-2.892655</td>\n",
       "    </tr>\n",
       "    <tr>\n",
       "      <td>rpt_rdwy_sys_id_10</td>\n",
       "      <td>-2.884512</td>\n",
       "    </tr>\n",
       "    <tr>\n",
       "      <td>rpt_rdwy_sys_id_16</td>\n",
       "      <td>-2.583594</td>\n",
       "    </tr>\n",
       "    <tr>\n",
       "      <td>city_id_1258</td>\n",
       "      <td>-2.390706</td>\n",
       "    </tr>\n",
       "    <tr>\n",
       "      <td>surf_cond_id_5</td>\n",
       "      <td>-1.659718</td>\n",
       "    </tr>\n",
       "    <tr>\n",
       "      <td>rpt_rdwy_sys_id_13</td>\n",
       "      <td>-1.366951</td>\n",
       "    </tr>\n",
       "    <tr>\n",
       "      <td>road_part_adj_id_3</td>\n",
       "      <td>-1.298533</td>\n",
       "    </tr>\n",
       "    <tr>\n",
       "      <td>surf_cond_id_9</td>\n",
       "      <td>-1.093348</td>\n",
       "    </tr>\n",
       "    <tr>\n",
       "      <td>light_cond_id_6</td>\n",
       "      <td>-1.057485</td>\n",
       "    </tr>\n",
       "    <tr>\n",
       "      <td>surf_cond_id_3</td>\n",
       "      <td>-1.045492</td>\n",
       "    </tr>\n",
       "    <tr>\n",
       "      <td>city_id_809</td>\n",
       "      <td>-0.901659</td>\n",
       "    </tr>\n",
       "    <tr>\n",
       "      <td>city_id_577</td>\n",
       "      <td>-0.857814</td>\n",
       "    </tr>\n",
       "    <tr>\n",
       "      <td>light_cond_id_1</td>\n",
       "      <td>-0.773678</td>\n",
       "    </tr>\n",
       "    <tr>\n",
       "      <td>city_id_250</td>\n",
       "      <td>-0.719979</td>\n",
       "    </tr>\n",
       "    <tr>\n",
       "      <td>city_id_1525</td>\n",
       "      <td>-0.706333</td>\n",
       "    </tr>\n",
       "    <tr>\n",
       "      <td>rpt_rdwy_sys_id_5</td>\n",
       "      <td>-0.679304</td>\n",
       "    </tr>\n",
       "    <tr>\n",
       "      <td>cnty_id_246</td>\n",
       "      <td>-0.678554</td>\n",
       "    </tr>\n",
       "    <tr>\n",
       "      <td>light_cond_id_0</td>\n",
       "      <td>-0.650259</td>\n",
       "    </tr>\n",
       "    <tr>\n",
       "      <td>surf_cond_id_6</td>\n",
       "      <td>-0.648882</td>\n",
       "    </tr>\n",
       "    <tr>\n",
       "      <td>city_id_1388</td>\n",
       "      <td>-0.637418</td>\n",
       "    </tr>\n",
       "    <tr>\n",
       "      <td>surf_cond_id_2</td>\n",
       "      <td>-0.587768</td>\n",
       "    </tr>\n",
       "    <tr>\n",
       "      <td>city_id_1394</td>\n",
       "      <td>-0.583384</td>\n",
       "    </tr>\n",
       "    <tr>\n",
       "      <td>wthr_cond_id_6</td>\n",
       "      <td>-0.562363</td>\n",
       "    </tr>\n",
       "    <tr>\n",
       "      <td>rpt_rdwy_sys_id_18</td>\n",
       "      <td>-0.561379</td>\n",
       "    </tr>\n",
       "    <tr>\n",
       "      <td>intrsct_relat_id_3.0</td>\n",
       "      <td>-0.510237</td>\n",
       "    </tr>\n",
       "    <tr>\n",
       "      <td>road_constr_zone_wrkr_fl</td>\n",
       "      <td>-0.483369</td>\n",
       "    </tr>\n",
       "    <tr>\n",
       "      <td>intrsct_relat_id_2.0</td>\n",
       "      <td>-0.467212</td>\n",
       "    </tr>\n",
       "    <tr>\n",
       "      <td>city_id_8084</td>\n",
       "      <td>-0.434579</td>\n",
       "    </tr>\n",
       "    <tr>\n",
       "      <td>city_id_330</td>\n",
       "      <td>-0.421898</td>\n",
       "    </tr>\n",
       "    <tr>\n",
       "      <td>city_id_1288</td>\n",
       "      <td>-0.411104</td>\n",
       "    </tr>\n",
       "    <tr>\n",
       "      <td>road_constr_zone_fl</td>\n",
       "      <td>-0.399724</td>\n",
       "    </tr>\n",
       "    <tr>\n",
       "      <td>day_of_week_5</td>\n",
       "      <td>-0.379602</td>\n",
       "    </tr>\n",
       "    <tr>\n",
       "      <td>comut_hrs</td>\n",
       "      <td>-0.378309</td>\n",
       "    </tr>\n",
       "    <tr>\n",
       "      <td>rpt_rdwy_sys_id_1</td>\n",
       "      <td>-0.355443</td>\n",
       "    </tr>\n",
       "    <tr>\n",
       "      <td>city_id_3211</td>\n",
       "      <td>-0.333328</td>\n",
       "    </tr>\n",
       "    <tr>\n",
       "      <td>city_id_72</td>\n",
       "      <td>-0.324241</td>\n",
       "    </tr>\n",
       "  </tbody>\n",
       "</table>\n",
       "</div>"
      ],
      "text/plain": [
       "                          Coefficients\n",
       "city_id_451                  -5.354888\n",
       "city_id_1378                 -5.109477\n",
       "city_id_138                  -3.095262\n",
       "wthr_cond_id_4               -2.983766\n",
       "wthr_cond_id_8               -2.892655\n",
       "rpt_rdwy_sys_id_10           -2.884512\n",
       "rpt_rdwy_sys_id_16           -2.583594\n",
       "city_id_1258                 -2.390706\n",
       "surf_cond_id_5               -1.659718\n",
       "rpt_rdwy_sys_id_13           -1.366951\n",
       "road_part_adj_id_3           -1.298533\n",
       "surf_cond_id_9               -1.093348\n",
       "light_cond_id_6              -1.057485\n",
       "surf_cond_id_3               -1.045492\n",
       "city_id_809                  -0.901659\n",
       "city_id_577                  -0.857814\n",
       "light_cond_id_1              -0.773678\n",
       "city_id_250                  -0.719979\n",
       "city_id_1525                 -0.706333\n",
       "rpt_rdwy_sys_id_5            -0.679304\n",
       "cnty_id_246                  -0.678554\n",
       "light_cond_id_0              -0.650259\n",
       "surf_cond_id_6               -0.648882\n",
       "city_id_1388                 -0.637418\n",
       "surf_cond_id_2               -0.587768\n",
       "city_id_1394                 -0.583384\n",
       "wthr_cond_id_6               -0.562363\n",
       "rpt_rdwy_sys_id_18           -0.561379\n",
       "intrsct_relat_id_3.0         -0.510237\n",
       "road_constr_zone_wrkr_fl     -0.483369\n",
       "intrsct_relat_id_2.0         -0.467212\n",
       "city_id_8084                 -0.434579\n",
       "city_id_330                  -0.421898\n",
       "city_id_1288                 -0.411104\n",
       "road_constr_zone_fl          -0.399724\n",
       "day_of_week_5                -0.379602\n",
       "comut_hrs                    -0.378309\n",
       "rpt_rdwy_sys_id_1            -0.355443\n",
       "city_id_3211                 -0.333328\n",
       "city_id_72                   -0.324241"
      ]
     },
     "execution_count": 252,
     "metadata": {},
     "output_type": "execute_result"
    }
   ],
   "source": [
    "up_lr_coef.sort_values('Coefficients').head(40)"
   ]
  },
  {
   "cell_type": "code",
   "execution_count": 251,
   "metadata": {},
   "outputs": [],
   "source": [
    "import pickle\n",
    "#export the LR Model to be used in Analysis\n",
    "pickle.dump(up_lr, open( \"up_lr_2.p\", \"wb\" ) )"
   ]
  },
  {
   "cell_type": "markdown",
   "metadata": {},
   "source": [
    "   # Model Testing\n",
    "    - a k-nearest neighbors model\n",
    "    - a decision tree\n",
    "    - a set of bagged decision trees\n",
    "    - a random forest\n",
    "    - an Adaboost model\n",
    "    - a support vector classifier"
   ]
  },
  {
   "cell_type": "code",
   "execution_count": 162,
   "metadata": {},
   "outputs": [],
   "source": [
    "# Code Credit to General Assembly\n",
    "def train_eval_model(model):\n",
    "    model_name= model.__str__().split('(')[0]\n",
    "    model.fit(X_train, y_train)\n",
    "    print(model.score(X_train, y_train))\n",
    "    print(model.score(X_test, y_test))\n",
    "    print(model.score(X_train, y_train) - model.score(X_test, y_test))\n",
    "\n",
    "    model_preds = model.predict(X_test)\n",
    "    model_preds_train = model.predict(X_train)\n",
    "    print(f1_score(y_train, model_preds_train, average=None)) \n",
    "    print(f1_score(y_test, model_preds, average=None))\n",
    "    return model"
   ]
  },
  {
   "cell_type": "code",
   "execution_count": 267,
   "metadata": {},
   "outputs": [
    {
     "name": "stdout",
     "output_type": "stream",
     "text": [
      "0.7027142194829279\n",
      "0.7138099039334966\n",
      "-0.011095684450568744\n",
      "[0.70664734 0.6986742 ]\n",
      "[0.83235783 0.0227465 ]\n"
     ]
    }
   ],
   "source": [
    "adb = train_eval_model(AdaBoostClassifier())"
   ]
  },
  {
   "cell_type": "code",
   "execution_count": 268,
   "metadata": {},
   "outputs": [
    {
     "data": {
      "text/html": [
       "<div>\n",
       "<style scoped>\n",
       "    .dataframe tbody tr th:only-of-type {\n",
       "        vertical-align: middle;\n",
       "    }\n",
       "\n",
       "    .dataframe tbody tr th {\n",
       "        vertical-align: top;\n",
       "    }\n",
       "\n",
       "    .dataframe thead th {\n",
       "        text-align: right;\n",
       "    }\n",
       "</style>\n",
       "<table border=\"1\" class=\"dataframe\">\n",
       "  <thead>\n",
       "    <tr style=\"text-align: right;\">\n",
       "      <th>Predicted</th>\n",
       "      <th>0</th>\n",
       "      <th>1</th>\n",
       "      <th>All</th>\n",
       "    </tr>\n",
       "    <tr>\n",
       "      <th>Actual</th>\n",
       "      <th></th>\n",
       "      <th></th>\n",
       "      <th></th>\n",
       "    </tr>\n",
       "  </thead>\n",
       "  <tbody>\n",
       "    <tr>\n",
       "      <td>0</td>\n",
       "      <td>51622</td>\n",
       "      <td>20665</td>\n",
       "      <td>72287</td>\n",
       "    </tr>\n",
       "    <tr>\n",
       "      <td>1</td>\n",
       "      <td>129</td>\n",
       "      <td>242</td>\n",
       "      <td>371</td>\n",
       "    </tr>\n",
       "    <tr>\n",
       "      <td>All</td>\n",
       "      <td>51751</td>\n",
       "      <td>20907</td>\n",
       "      <td>72658</td>\n",
       "    </tr>\n",
       "  </tbody>\n",
       "</table>\n",
       "</div>"
      ],
      "text/plain": [
       "Predicted      0      1    All\n",
       "Actual                        \n",
       "0          51622  20665  72287\n",
       "1            129    242    371\n",
       "All        51751  20907  72658"
      ]
     },
     "execution_count": 268,
     "metadata": {},
     "output_type": "execute_result"
    }
   ],
   "source": [
    "AdaBoostClassifier_preds = adb.predict(X_test)\n",
    "adb_confusion = pd.crosstab(y_test, AdaBoostClassifier_preds, rownames=['Actual'], colnames=['Predicted'], margins=True)\n",
    "adb_confusion"
   ]
  },
  {
   "cell_type": "code",
   "execution_count": 269,
   "metadata": {},
   "outputs": [
    {
     "name": "stdout",
     "output_type": "stream",
     "text": [
      "              precision    recall  f1-score   support\n",
      "\n",
      "           0       1.00      0.71      0.83     72287\n",
      "           1       0.01      0.65      0.02       371\n",
      "\n",
      "    accuracy                           0.71     72658\n",
      "   macro avg       0.50      0.68      0.43     72658\n",
      "weighted avg       0.99      0.71      0.83     72658\n",
      "\n"
     ]
    }
   ],
   "source": [
    "from sklearn.metrics import classification_report\n",
    "print(classification_report(y_test, AdaBoostClassifier_preds))"
   ]
  },
  {
   "cell_type": "code",
   "execution_count": 270,
   "metadata": {},
   "outputs": [],
   "source": [
    "adb_feature = pd.DataFrame(adb.feature_importances_, index=X_train.columns)"
   ]
  },
  {
   "cell_type": "code",
   "execution_count": 271,
   "metadata": {},
   "outputs": [
    {
     "data": {
      "text/html": [
       "<div>\n",
       "<style scoped>\n",
       "    .dataframe tbody tr th:only-of-type {\n",
       "        vertical-align: middle;\n",
       "    }\n",
       "\n",
       "    .dataframe tbody tr th {\n",
       "        vertical-align: top;\n",
       "    }\n",
       "\n",
       "    .dataframe thead th {\n",
       "        text-align: right;\n",
       "    }\n",
       "</style>\n",
       "<table border=\"1\" class=\"dataframe\">\n",
       "  <thead>\n",
       "    <tr style=\"text-align: right;\">\n",
       "      <th></th>\n",
       "      <th>0</th>\n",
       "    </tr>\n",
       "  </thead>\n",
       "  <tbody>\n",
       "    <tr>\n",
       "      <td>city_id_330</td>\n",
       "      <td>0.02</td>\n",
       "    </tr>\n",
       "    <tr>\n",
       "      <td>city_id_421</td>\n",
       "      <td>0.02</td>\n",
       "    </tr>\n",
       "    <tr>\n",
       "      <td>city_id_451</td>\n",
       "      <td>0.02</td>\n",
       "    </tr>\n",
       "    <tr>\n",
       "      <td>city_id_538</td>\n",
       "      <td>0.02</td>\n",
       "    </tr>\n",
       "    <tr>\n",
       "      <td>city_id_72</td>\n",
       "      <td>0.02</td>\n",
       "    </tr>\n",
       "    <tr>\n",
       "      <td>surf_cond_id_10</td>\n",
       "      <td>0.02</td>\n",
       "    </tr>\n",
       "    <tr>\n",
       "      <td>surf_cond_id_8</td>\n",
       "      <td>0.02</td>\n",
       "    </tr>\n",
       "    <tr>\n",
       "      <td>rpt_rdwy_sys_id_11</td>\n",
       "      <td>0.02</td>\n",
       "    </tr>\n",
       "    <tr>\n",
       "      <td>rpt_rdwy_sys_id_12</td>\n",
       "      <td>0.02</td>\n",
       "    </tr>\n",
       "    <tr>\n",
       "      <td>city_id_372</td>\n",
       "      <td>0.02</td>\n",
       "    </tr>\n",
       "    <tr>\n",
       "      <td>rpt_rdwy_sys_id_15</td>\n",
       "      <td>0.02</td>\n",
       "    </tr>\n",
       "    <tr>\n",
       "      <td>rpt_rdwy_sys_id_3</td>\n",
       "      <td>0.02</td>\n",
       "    </tr>\n",
       "    <tr>\n",
       "      <td>rpt_rdwy_sys_id_4</td>\n",
       "      <td>0.02</td>\n",
       "    </tr>\n",
       "    <tr>\n",
       "      <td>rpt_rdwy_sys_id_5</td>\n",
       "      <td>0.02</td>\n",
       "    </tr>\n",
       "    <tr>\n",
       "      <td>rpt_rdwy_sys_id_6</td>\n",
       "      <td>0.02</td>\n",
       "    </tr>\n",
       "    <tr>\n",
       "      <td>intrsct_relat_id_1.0</td>\n",
       "      <td>0.02</td>\n",
       "    </tr>\n",
       "    <tr>\n",
       "      <td>intrsct_relat_id_2.0</td>\n",
       "      <td>0.02</td>\n",
       "    </tr>\n",
       "    <tr>\n",
       "      <td>intrsct_relat_id_3.0</td>\n",
       "      <td>0.02</td>\n",
       "    </tr>\n",
       "    <tr>\n",
       "      <td>intrsct_relat_id_4.0</td>\n",
       "      <td>0.02</td>\n",
       "    </tr>\n",
       "    <tr>\n",
       "      <td>rpt_rdwy_sys_id_19</td>\n",
       "      <td>0.02</td>\n",
       "    </tr>\n",
       "    <tr>\n",
       "      <td>road_part_adj_id_3</td>\n",
       "      <td>0.02</td>\n",
       "    </tr>\n",
       "    <tr>\n",
       "      <td>road_part_adj_id_7</td>\n",
       "      <td>0.02</td>\n",
       "    </tr>\n",
       "    <tr>\n",
       "      <td>city_id_246</td>\n",
       "      <td>0.02</td>\n",
       "    </tr>\n",
       "    <tr>\n",
       "      <td>road_constr_zone_fl</td>\n",
       "      <td>0.02</td>\n",
       "    </tr>\n",
       "    <tr>\n",
       "      <td>rural_fl</td>\n",
       "      <td>0.02</td>\n",
       "    </tr>\n",
       "    <tr>\n",
       "      <td>holiday</td>\n",
       "      <td>0.02</td>\n",
       "    </tr>\n",
       "    <tr>\n",
       "      <td>comut_hrs</td>\n",
       "      <td>0.02</td>\n",
       "    </tr>\n",
       "    <tr>\n",
       "      <td>weekend</td>\n",
       "      <td>0.02</td>\n",
       "    </tr>\n",
       "    <tr>\n",
       "      <td>late_night</td>\n",
       "      <td>0.02</td>\n",
       "    </tr>\n",
       "    <tr>\n",
       "      <td>day_of_week_2</td>\n",
       "      <td>0.02</td>\n",
       "    </tr>\n",
       "    <tr>\n",
       "      <td>day_of_week_5</td>\n",
       "      <td>0.02</td>\n",
       "    </tr>\n",
       "    <tr>\n",
       "      <td>wthr_cond_id_12</td>\n",
       "      <td>0.02</td>\n",
       "    </tr>\n",
       "    <tr>\n",
       "      <td>city_id_250</td>\n",
       "      <td>0.02</td>\n",
       "    </tr>\n",
       "    <tr>\n",
       "      <td>wthr_cond_id_2</td>\n",
       "      <td>0.02</td>\n",
       "    </tr>\n",
       "    <tr>\n",
       "      <td>light_cond_id_0</td>\n",
       "      <td>0.02</td>\n",
       "    </tr>\n",
       "    <tr>\n",
       "      <td>light_cond_id_1</td>\n",
       "      <td>0.02</td>\n",
       "    </tr>\n",
       "    <tr>\n",
       "      <td>light_cond_id_4</td>\n",
       "      <td>0.02</td>\n",
       "    </tr>\n",
       "    <tr>\n",
       "      <td>light_cond_id_5</td>\n",
       "      <td>0.02</td>\n",
       "    </tr>\n",
       "    <tr>\n",
       "      <td>light_cond_id_6</td>\n",
       "      <td>0.02</td>\n",
       "    </tr>\n",
       "    <tr>\n",
       "      <td>city_id_1378</td>\n",
       "      <td>0.02</td>\n",
       "    </tr>\n",
       "    <tr>\n",
       "      <td>city_id_1792</td>\n",
       "      <td>0.02</td>\n",
       "    </tr>\n",
       "    <tr>\n",
       "      <td>city_id_22</td>\n",
       "      <td>0.02</td>\n",
       "    </tr>\n",
       "    <tr>\n",
       "      <td>wthr_cond_id_7</td>\n",
       "      <td>0.02</td>\n",
       "    </tr>\n",
       "    <tr>\n",
       "      <td>rpt_rdwy_sys_id_1</td>\n",
       "      <td>0.04</td>\n",
       "    </tr>\n",
       "    <tr>\n",
       "      <td>crash_speed_limit</td>\n",
       "      <td>0.10</td>\n",
       "    </tr>\n",
       "  </tbody>\n",
       "</table>\n",
       "</div>"
      ],
      "text/plain": [
       "                         0\n",
       "city_id_330           0.02\n",
       "city_id_421           0.02\n",
       "city_id_451           0.02\n",
       "city_id_538           0.02\n",
       "city_id_72            0.02\n",
       "surf_cond_id_10       0.02\n",
       "surf_cond_id_8        0.02\n",
       "rpt_rdwy_sys_id_11    0.02\n",
       "rpt_rdwy_sys_id_12    0.02\n",
       "city_id_372           0.02\n",
       "rpt_rdwy_sys_id_15    0.02\n",
       "rpt_rdwy_sys_id_3     0.02\n",
       "rpt_rdwy_sys_id_4     0.02\n",
       "rpt_rdwy_sys_id_5     0.02\n",
       "rpt_rdwy_sys_id_6     0.02\n",
       "intrsct_relat_id_1.0  0.02\n",
       "intrsct_relat_id_2.0  0.02\n",
       "intrsct_relat_id_3.0  0.02\n",
       "intrsct_relat_id_4.0  0.02\n",
       "rpt_rdwy_sys_id_19    0.02\n",
       "road_part_adj_id_3    0.02\n",
       "road_part_adj_id_7    0.02\n",
       "city_id_246           0.02\n",
       "road_constr_zone_fl   0.02\n",
       "rural_fl              0.02\n",
       "holiday               0.02\n",
       "comut_hrs             0.02\n",
       "weekend               0.02\n",
       "late_night            0.02\n",
       "day_of_week_2         0.02\n",
       "day_of_week_5         0.02\n",
       "wthr_cond_id_12       0.02\n",
       "city_id_250           0.02\n",
       "wthr_cond_id_2        0.02\n",
       "light_cond_id_0       0.02\n",
       "light_cond_id_1       0.02\n",
       "light_cond_id_4       0.02\n",
       "light_cond_id_5       0.02\n",
       "light_cond_id_6       0.02\n",
       "city_id_1378          0.02\n",
       "city_id_1792          0.02\n",
       "city_id_22            0.02\n",
       "wthr_cond_id_7        0.02\n",
       "rpt_rdwy_sys_id_1     0.04\n",
       "crash_speed_limit     0.10"
      ]
     },
     "execution_count": 271,
     "metadata": {},
     "output_type": "execute_result"
    }
   ],
   "source": [
    "adb_feature.loc[adb_feature[0] > .01].sort_values([0])"
   ]
  },
  {
   "cell_type": "code",
   "execution_count": 31,
   "metadata": {},
   "outputs": [],
   "source": [
    "from sklearn.model_selection import GridSearchCV"
   ]
  },
  {
   "cell_type": "code",
   "execution_count": 253,
   "metadata": {},
   "outputs": [],
   "source": [
    "ada_params = {'learning_rate':[1],\n",
    "    'n_estimators':[200,100,50],\n",
    "              'algorithm': ['SAMME.R', 'SAMME'],\n",
    "    'random_state':[789]\n",
    "}"
   ]
  },
  {
   "cell_type": "code",
   "execution_count": 254,
   "metadata": {},
   "outputs": [],
   "source": [
    "ada_gridsearch = GridSearchCV(AdaBoostClassifier(), \n",
    "                              ada_params, \n",
    "                              cv=3, \n",
    "                              verbose=4,\n",
    "                             n_jobs=-1)"
   ]
  },
  {
   "cell_type": "code",
   "execution_count": 255,
   "metadata": {},
   "outputs": [
    {
     "name": "stdout",
     "output_type": "stream",
     "text": [
      "Fitting 3 folds for each of 6 candidates, totalling 18 fits\n"
     ]
    },
    {
     "name": "stderr",
     "output_type": "stream",
     "text": [
      "[Parallel(n_jobs=-1)]: Using backend LokyBackend with 8 concurrent workers.\n",
      "[Parallel(n_jobs=-1)]: Done   8 out of  18 | elapsed:  2.9min remaining:  3.6min\n",
      "[Parallel(n_jobs=-1)]: Done  13 out of  18 | elapsed:  3.5min remaining:  1.3min\n",
      "[Parallel(n_jobs=-1)]: Done  18 out of  18 | elapsed:  3.8min remaining:    0.0s\n",
      "[Parallel(n_jobs=-1)]: Done  18 out of  18 | elapsed:  3.8min finished\n"
     ]
    }
   ],
   "source": [
    "ada_gridsearch.fit(X_train, y_train);"
   ]
  },
  {
   "cell_type": "code",
   "execution_count": 256,
   "metadata": {},
   "outputs": [
    {
     "data": {
      "text/plain": [
       "0.707456092505727"
      ]
     },
     "execution_count": 256,
     "metadata": {},
     "output_type": "execute_result"
    }
   ],
   "source": [
    "ada_gridsearch.best_score_"
   ]
  },
  {
   "cell_type": "code",
   "execution_count": 257,
   "metadata": {},
   "outputs": [
    {
     "data": {
      "text/plain": [
       "AdaBoostClassifier(algorithm='SAMME.R', base_estimator=None, learning_rate=1,\n",
       "                   n_estimators=200, random_state=789)"
      ]
     },
     "execution_count": 257,
     "metadata": {},
     "output_type": "execute_result"
    }
   ],
   "source": [
    "ada_gridsearch.best_estimator_"
   ]
  },
  {
   "cell_type": "code",
   "execution_count": 258,
   "metadata": {},
   "outputs": [],
   "source": [
    "ada_gs_preds = ada_gridsearch.predict(X_test)"
   ]
  },
  {
   "cell_type": "code",
   "execution_count": 259,
   "metadata": {},
   "outputs": [
    {
     "data": {
      "text/html": [
       "<div>\n",
       "<style scoped>\n",
       "    .dataframe tbody tr th:only-of-type {\n",
       "        vertical-align: middle;\n",
       "    }\n",
       "\n",
       "    .dataframe tbody tr th {\n",
       "        vertical-align: top;\n",
       "    }\n",
       "\n",
       "    .dataframe thead th {\n",
       "        text-align: right;\n",
       "    }\n",
       "</style>\n",
       "<table border=\"1\" class=\"dataframe\">\n",
       "  <thead>\n",
       "    <tr style=\"text-align: right;\">\n",
       "      <th>Predicted</th>\n",
       "      <th>0</th>\n",
       "      <th>1</th>\n",
       "      <th>All</th>\n",
       "    </tr>\n",
       "    <tr>\n",
       "      <th>Actual</th>\n",
       "      <th></th>\n",
       "      <th></th>\n",
       "      <th></th>\n",
       "    </tr>\n",
       "  </thead>\n",
       "  <tbody>\n",
       "    <tr>\n",
       "      <td>0</td>\n",
       "      <td>51965</td>\n",
       "      <td>20322</td>\n",
       "      <td>72287</td>\n",
       "    </tr>\n",
       "    <tr>\n",
       "      <td>1</td>\n",
       "      <td>128</td>\n",
       "      <td>243</td>\n",
       "      <td>371</td>\n",
       "    </tr>\n",
       "    <tr>\n",
       "      <td>All</td>\n",
       "      <td>52093</td>\n",
       "      <td>20565</td>\n",
       "      <td>72658</td>\n",
       "    </tr>\n",
       "  </tbody>\n",
       "</table>\n",
       "</div>"
      ],
      "text/plain": [
       "Predicted      0      1    All\n",
       "Actual                        \n",
       "0          51965  20322  72287\n",
       "1            128    243    371\n",
       "All        52093  20565  72658"
      ]
     },
     "execution_count": 259,
     "metadata": {},
     "output_type": "execute_result"
    }
   ],
   "source": [
    "ada_gs_confusion = pd.crosstab(y_test, ada_gs_preds, rownames=['Actual'], colnames=['Predicted'], margins=True)\n",
    "ada_gs_confusion"
   ]
  },
  {
   "cell_type": "code",
   "execution_count": 260,
   "metadata": {},
   "outputs": [
    {
     "data": {
      "text/plain": [
       "3"
      ]
     },
     "execution_count": 260,
     "metadata": {},
     "output_type": "execute_result"
    }
   ],
   "source": [
    "ada_gridsearch.n_splits_"
   ]
  },
  {
   "cell_type": "code",
   "execution_count": 261,
   "metadata": {},
   "outputs": [],
   "source": [
    "ada_gs_proba_test = ada_gridsearch.predict_proba(X_test)[:,1]"
   ]
  },
  {
   "cell_type": "code",
   "execution_count": 262,
   "metadata": {},
   "outputs": [],
   "source": [
    "ada_gs_proba_train = ada_gridsearch.predict_proba(X_train)[:,1]\n"
   ]
  },
  {
   "cell_type": "code",
   "execution_count": 263,
   "metadata": {},
   "outputs": [
    {
     "data": {
      "text/plain": [
       "(293344,)"
      ]
     },
     "execution_count": 263,
     "metadata": {},
     "output_type": "execute_result"
    }
   ],
   "source": [
    "ada_gs_proba_train.shape"
   ]
  },
  {
   "cell_type": "code",
   "execution_count": null,
   "metadata": {},
   "outputs": [],
   "source": [
    "adb_feature.loc[adb_feature[0] > .01].sort_values([0])"
   ]
  },
  {
   "cell_type": "markdown",
   "metadata": {},
   "source": [
    "https://stats.stackexchange.com/questions/110981/why-is-adaboost-predicting-probabilities-with-so-little-standard-deviation\n",
    "http://fastml.com/classifier-calibration-with-platts-scaling-and-isotonic-regression/"
   ]
  },
  {
   "cell_type": "markdown",
   "metadata": {},
   "source": [
    "## Isotonic Regression for Next Steps"
   ]
  },
  {
   "cell_type": "code",
   "execution_count": 62,
   "metadata": {},
   "outputs": [],
   "source": [
    "from sklearn.isotonic import IsotonicRegression as IR\n",
    "\n",
    "ir = IR( out_of_bounds = 'clip' )\n",
    "ir.fit( ada_gs_proba_train, y_train )\n",
    "p_calibrated = ir.transform( ada_gs_proba_test )   # or ir.fit( p_test ), that's the same thing"
   ]
  },
  {
   "cell_type": "code",
   "execution_count": 265,
   "metadata": {},
   "outputs": [
    {
     "data": {
      "text/plain": [
       "array([0., 0., 0., ..., 0., 0., 0.])"
      ]
     },
     "execution_count": 265,
     "metadata": {},
     "output_type": "execute_result"
    }
   ],
   "source": [
    "ir.predict(y_test)"
   ]
  },
  {
   "cell_type": "code",
   "execution_count": 81,
   "metadata": {},
   "outputs": [
    {
     "data": {
      "text/plain": [
       "Text(0.5, 1.0, 'Predicted Probabilities using Isotonic Regression')"
      ]
     },
     "execution_count": 81,
     "metadata": {},
     "output_type": "execute_result"
    },
    {
     "data": {
      "image/png": "[encoded data removed]",
      "text/plain": [
       "<Figure size 864x360 with 1 Axes>"
      ]
     },
     "metadata": {
      "needs_background": "light"
     },
     "output_type": "display_data"
    }
   ],
   "source": [
    "plt.figure(figsize=(12,5))\n",
    "plt.plot(X_test.columns, p_calibrated, color='r')\n",
    "plt.title(\"Predicted Probabilities using Isotonic Regression\")\n"
   ]
  },
  {
   "cell_type": "code",
   "execution_count": 39,
   "metadata": {},
   "outputs": [
    {
     "name": "stdout",
     "output_type": "stream",
     "text": [
      "              precision    recall  f1-score   support\n",
      "\n",
      "           0       1.00      0.73      0.84     72263\n",
      "           1       0.01      0.65      0.02       394\n",
      "\n",
      "    accuracy                           0.73     72657\n",
      "   macro avg       0.51      0.69      0.43     72657\n",
      "weighted avg       0.99      0.73      0.84     72657\n",
      "\n"
     ]
    }
   ],
   "source": [
    "from sklearn.metrics import classification_report\n",
    "print(classification_report(y_test, ada_gs_preds))"
   ]
  },
  {
   "cell_type": "markdown",
   "metadata": {},
   "source": [
    "## Other Models Tested"
   ]
  },
  {
   "cell_type": "markdown",
   "metadata": {},
   "source": [
    "lr_params = {\n",
    "    '':[],\n",
    "    '':['',''],\n",
    "    '':[''],\n",
    "    '':[],\n",
    "}"
   ]
  },
  {
   "cell_type": "markdown",
   "metadata": {},
   "source": [
    "lr_gridsearch = GridSearchCV(LogisticRegression(),\n",
    "                              lr_params, \n",
    "                              cv=5, \n",
    "                              verbose=4,\n",
    "                             n_jobs=-1)"
   ]
  },
  {
   "cell_type": "markdown",
   "metadata": {},
   "source": [
    "knn = train_eval_model(KNeighborsClassifier(n_jobs=-1))"
   ]
  },
  {
   "cell_type": "markdown",
   "metadata": {},
   "source": [
    "KNeighborsClassifier_preds = knn.predict(X_test)\n",
    "knn_confusion = pd.crosstab(y_test, KNeighborsClassifier_preds, rownames=['Actual'], colnames=['Predicted'], margins=True)\n",
    "knn_confusion"
   ]
  },
  {
   "cell_type": "markdown",
   "metadata": {},
   "source": [
    "dt = train_eval_model(DecisionTreeClassifier())"
   ]
  },
  {
   "cell_type": "markdown",
   "metadata": {},
   "source": [
    "DecisionsTreeClassifier_preds = dt.predict(X_test)\n",
    "dt_confusion = pd.crosstab(y_test, DecisionsTreeClassifier_preds, rownames=['Actual'], colnames=['Predicted'], margins=True)\n",
    "dt_confusion"
   ]
  },
  {
   "cell_type": "markdown",
   "metadata": {},
   "source": [
    "rf = train_eval_model(RandomForestClassifier())"
   ]
  },
  {
   "cell_type": "markdown",
   "metadata": {},
   "source": [
    "RandomForestClassifier_preds = rf.predict(X_test)\n",
    "rf_confusion = pd.crosstab(y_test, RandomForestClassifier_preds, rownames=['Actual'], colnames=['Predicted'], margins=True)\n",
    "rf_confusion"
   ]
  },
  {
   "cell_type": "markdown",
   "metadata": {},
   "source": [
    "bag = train_eval_model(BaggingClassifier())"
   ]
  },
  {
   "cell_type": "markdown",
   "metadata": {},
   "source": [
    "BaggingClassifier_preds = bag.predict(X_test)\n",
    "rf_confusion = pd.crosstab(y_test, BaggingClassifier_preds, rownames=['Actual'], colnames=['Predicted'], margins=True)\n",
    "rf_confusion"
   ]
  },
  {
   "cell_type": "markdown",
   "metadata": {},
   "source": [
    "svc = train_eval_model(SVC())"
   ]
  },
  {
   "cell_type": "markdown",
   "metadata": {},
   "source": [
    "SVC_preds = svc.predict(X_test)\n",
    "svc_confusion = pd.crosstab(y_test, SVC_preds, rownames=['Actual'], colnames=['Predicted'], margins=True)\n",
    "svc_confusion"
   ]
  },
  {
   "cell_type": "markdown",
   "metadata": {},
   "source": []
  },
  {
   "cell_type": "markdown",
   "metadata": {},
   "source": [
    "knn_params = {\n",
    "    'n_neighbors':[3,7],\n",
    "    'weights':['uniform','distance'],\n",
    "    'algorithm':['auto'],\n",
    "    'p':[1,2],\n",
    "}"
   ]
  },
  {
   "cell_type": "markdown",
   "metadata": {},
   "source": [
    "n_neighbors=5,\n",
    "    weights='uniform',\n",
    "    algorithm='auto',\n",
    "    leaf_size=30,\n",
    "    p=2,\n",
    "    metric='minkowski',\n",
    "    metric_params=None,"
   ]
  },
  {
   "cell_type": "markdown",
   "metadata": {},
   "source": [
    "knn_gridsearch = GridSearchCV(KNeighborsClassifier(),\n",
    "                              knn_params, \n",
    "                              cv=5, \n",
    "                              verbose=2,\n",
    "                             n_jobs=-1)"
   ]
  },
  {
   "cell_type": "markdown",
   "metadata": {},
   "source": [
    "knn_gridsearch.fit(X_train, y_train);"
   ]
  },
  {
   "cell_type": "markdown",
   "metadata": {},
   "source": [
    "print(knn_gridsearch.best_score_)\n",
    "knn_gridsearch.best_estimator_"
   ]
  },
  {
   "cell_type": "markdown",
   "metadata": {},
   "source": [
    "knn_gs_preds = knn_gridsearch.predict(X_test)iKi"
   ]
  },
  {
   "cell_type": "markdown",
   "metadata": {},
   "source": [
    "knn_gs_confusion = pd.crosstab(y_test, knn_gs_preds, rownames=['Actual'], colnames=['Predicted'], margins=True)\n",
    "knn_gs_confusion"
   ]
  },
  {
   "cell_type": "code",
   "execution_count": null,
   "metadata": {},
   "outputs": [],
   "source": []
  },
  {
   "cell_type": "code",
   "execution_count": null,
   "metadata": {},
   "outputs": [],
   "source": []
  }
 ],
 "metadata": {
  "kernelspec": {
   "display_name": "Python 3",
   "language": "python",
   "name": "python3"
  },
  "language_info": {
   "codemirror_mode": {
    "name": "ipython",
    "version": 3
   },
   "file_extension": ".py",
   "mimetype": "text/x-python",
   "name": "python",
   "nbconvert_exporter": "python",
   "pygments_lexer": "ipython3",
   "version": "3.7.4"
  }
 },
 "nbformat": 4,
 "nbformat_minor": 2
}
